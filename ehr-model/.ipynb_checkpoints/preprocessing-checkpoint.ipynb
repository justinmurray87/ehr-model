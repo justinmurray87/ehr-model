{
 "cells": [
  {
   "cell_type": "markdown",
   "id": "combined-binding",
   "metadata": {},
   "source": [
    "### Setup the environment\n",
    "Upgrading SageMaker python SDK and TensorFlow to the current latest version. We need to restart the notebook's kernel to use the newly installed version. The following command will upgrade packages in your current kernel environment, which can affect other notebooks using the same kernel."
   ]
  },
  {
   "cell_type": "code",
   "execution_count": 99,
   "id": "desperate-latest",
   "metadata": {},
   "outputs": [],
   "source": [
    "# import sys\n",
    "# !{sys.executable} -m pip install --upgrade pip\n",
    "# !{sys.executable} -m pip install --upgrade keras\n",
    "# !{sys.executable} -m pip install --upgrade grpcio sagemaker==1.60.* awscli==1.* tensorflow==2.2.* tensorboard_plugin_profile==2.2.*"
   ]
  },
  {
   "cell_type": "markdown",
   "id": "light-parcel",
   "metadata": {},
   "source": [
    "### Import the require libraries\n",
    "Importing the required python libraries for the training to work."
   ]
  },
  {
   "cell_type": "code",
   "execution_count": 124,
   "id": "scenic-gregory",
   "metadata": {},
   "outputs": [],
   "source": [
    "import pandas as pd\n",
    "import numpy as np\n",
    "import boto3\n",
    "import io"
   ]
  },
  {
   "cell_type": "code",
   "execution_count": null,
   "id": "primary-rehabilitation",
   "metadata": {},
   "outputs": [],
   "source": [
    "### load data from s3 bucket"
   ]
  },
  {
   "cell_type": "code",
   "execution_count": 264,
   "id": "turned-thousand",
   "metadata": {},
   "outputs": [
    {
     "name": "stdout",
     "output_type": "stream",
     "text": [
      "s3://ehr-model/Data/D1/raw/processedswitzerland.txt\n",
      "s3://ehr-model/Data/D1/raw/processedcleveland.txt\n"
     ]
    }
   ],
   "source": [
    "RAW_DATA_NO = 'Data/D1/raw'\n",
    "BUCKET_NAME = 'ehr-model'\n",
    "SWISS_DATASET = f\"s3://{BUCKET_NAME}/{RAW_DATA_NO}/processedswitzerland.txt\"\n",
    "CLEVELAND_DATASET = f\"s3://{BUCKET_NAME}/{RAW_DATA_NO}/processedcleveland.txt\"\n",
    "print(SWISS_DATASET)\n",
    "print(CLEVELAND_DATASET)\n",
    "# s3://ehr-model/Data/D1/raw/"
   ]
  },
  {
   "cell_type": "code",
   "execution_count": 261,
   "id": "handmade-wealth",
   "metadata": {},
   "outputs": [],
   "source": [
    "s3 = boto3.client('s3')\n",
    "column_list = ['age', 'sex', 'cp', 'trestbps', 'chol', 'fbs', 'restecg', 'thalach',\n",
    "       'exang', 'oldpeak', 'slope', 'ca', 'thal', 'num_label']\n",
    "\n",
    "def load_data_s3(dataset):\n",
    "    df = pd.read_csv(dataset,names=column_list).replace('?', np.nan)\n",
    "    return df\n",
    "\n",
    "def upload_file(file_name, bucket, object_name=None):\n",
    "    \"\"\"Upload a file to an S3 bucket\n",
    "\n",
    "    :param file_name: File to upload\n",
    "    :param bucket: Bucket to upload to\n",
    "    :param object_name: S3 object name. If not specified then file_name is used\n",
    "    :return: True if file was uploaded, else False\n",
    "    \"\"\"\n",
    "\n",
    "    # If S3 object_name was not specified, use file_name\n",
    "    if object_name is None:\n",
    "        object_name = file_name\n",
    "\n",
    "    # Upload the file\n",
    "    s3_client = boto3.client('s3')\n",
    "    try:\n",
    "        response = s3_client.upload_file(file_name, bucket, object_name)\n",
    "    except ClientError as e:\n",
    "        logging.error(e)\n",
    "        return False\n",
    "    return True"
   ]
  },
  {
   "cell_type": "code",
   "execution_count": 127,
   "id": "paperback-delicious",
   "metadata": {},
   "outputs": [
    {
     "data": {
      "text/plain": [
       "(123, 303, 426)"
      ]
     },
     "execution_count": 127,
     "metadata": {},
     "output_type": "execute_result"
    }
   ],
   "source": [
    "df_swiss = load_data_s3(SWISS_DATASET)\n",
    "df_cleve = load_data_s3(CLEVELAND_DATASET)\n",
    "dataset = pd.concat([df_swiss, df_cleve], axis = 0) \n",
    "\n",
    "len(df_swiss),len(df_cleve),len(dataset)"
   ]
  },
  {
   "cell_type": "code",
   "execution_count": 128,
   "id": "great-pavilion",
   "metadata": {},
   "outputs": [
    {
     "data": {
      "text/html": [
       "<div>\n",
       "<style scoped>\n",
       "    .dataframe tbody tr th:only-of-type {\n",
       "        vertical-align: middle;\n",
       "    }\n",
       "\n",
       "    .dataframe tbody tr th {\n",
       "        vertical-align: top;\n",
       "    }\n",
       "\n",
       "    .dataframe thead th {\n",
       "        text-align: right;\n",
       "    }\n",
       "</style>\n",
       "<table border=\"1\" class=\"dataframe\">\n",
       "  <thead>\n",
       "    <tr style=\"text-align: right;\">\n",
       "      <th></th>\n",
       "      <th>age</th>\n",
       "      <th>sex</th>\n",
       "      <th>cp</th>\n",
       "      <th>trestbps</th>\n",
       "      <th>chol</th>\n",
       "      <th>fbs</th>\n",
       "      <th>restecg</th>\n",
       "      <th>thalach</th>\n",
       "      <th>exang</th>\n",
       "      <th>oldpeak</th>\n",
       "      <th>slope</th>\n",
       "      <th>ca</th>\n",
       "      <th>thal</th>\n",
       "      <th>num_label</th>\n",
       "    </tr>\n",
       "  </thead>\n",
       "  <tbody>\n",
       "    <tr>\n",
       "      <th>0</th>\n",
       "      <td>32.0</td>\n",
       "      <td>1.0</td>\n",
       "      <td>1.0</td>\n",
       "      <td>95</td>\n",
       "      <td>0.0</td>\n",
       "      <td>NaN</td>\n",
       "      <td>0</td>\n",
       "      <td>127</td>\n",
       "      <td>0</td>\n",
       "      <td>.7</td>\n",
       "      <td>1</td>\n",
       "      <td>NaN</td>\n",
       "      <td>NaN</td>\n",
       "      <td>1</td>\n",
       "    </tr>\n",
       "    <tr>\n",
       "      <th>1</th>\n",
       "      <td>34.0</td>\n",
       "      <td>1.0</td>\n",
       "      <td>4.0</td>\n",
       "      <td>115</td>\n",
       "      <td>0.0</td>\n",
       "      <td>NaN</td>\n",
       "      <td>NaN</td>\n",
       "      <td>154</td>\n",
       "      <td>0</td>\n",
       "      <td>.2</td>\n",
       "      <td>1</td>\n",
       "      <td>NaN</td>\n",
       "      <td>NaN</td>\n",
       "      <td>1</td>\n",
       "    </tr>\n",
       "    <tr>\n",
       "      <th>2</th>\n",
       "      <td>35.0</td>\n",
       "      <td>1.0</td>\n",
       "      <td>4.0</td>\n",
       "      <td>NaN</td>\n",
       "      <td>0.0</td>\n",
       "      <td>NaN</td>\n",
       "      <td>0</td>\n",
       "      <td>130</td>\n",
       "      <td>1</td>\n",
       "      <td>NaN</td>\n",
       "      <td>NaN</td>\n",
       "      <td>NaN</td>\n",
       "      <td>7</td>\n",
       "      <td>3</td>\n",
       "    </tr>\n",
       "    <tr>\n",
       "      <th>3</th>\n",
       "      <td>36.0</td>\n",
       "      <td>1.0</td>\n",
       "      <td>4.0</td>\n",
       "      <td>110</td>\n",
       "      <td>0.0</td>\n",
       "      <td>NaN</td>\n",
       "      <td>0</td>\n",
       "      <td>125</td>\n",
       "      <td>1</td>\n",
       "      <td>1</td>\n",
       "      <td>2</td>\n",
       "      <td>NaN</td>\n",
       "      <td>6</td>\n",
       "      <td>1</td>\n",
       "    </tr>\n",
       "    <tr>\n",
       "      <th>4</th>\n",
       "      <td>38.0</td>\n",
       "      <td>0.0</td>\n",
       "      <td>4.0</td>\n",
       "      <td>105</td>\n",
       "      <td>0.0</td>\n",
       "      <td>NaN</td>\n",
       "      <td>0</td>\n",
       "      <td>166</td>\n",
       "      <td>0</td>\n",
       "      <td>2.8</td>\n",
       "      <td>1</td>\n",
       "      <td>NaN</td>\n",
       "      <td>NaN</td>\n",
       "      <td>2</td>\n",
       "    </tr>\n",
       "  </tbody>\n",
       "</table>\n",
       "</div>"
      ],
      "text/plain": [
       "    age  sex   cp trestbps  chol  fbs restecg thalach exang oldpeak slope  \\\n",
       "0  32.0  1.0  1.0       95   0.0  NaN       0     127     0      .7     1   \n",
       "1  34.0  1.0  4.0      115   0.0  NaN     NaN     154     0      .2     1   \n",
       "2  35.0  1.0  4.0      NaN   0.0  NaN       0     130     1     NaN   NaN   \n",
       "3  36.0  1.0  4.0      110   0.0  NaN       0     125     1       1     2   \n",
       "4  38.0  0.0  4.0      105   0.0  NaN       0     166     0     2.8     1   \n",
       "\n",
       "    ca thal  num_label  \n",
       "0  NaN  NaN          1  \n",
       "1  NaN  NaN          1  \n",
       "2  NaN    7          3  \n",
       "3  NaN    6          1  \n",
       "4  NaN  NaN          2  "
      ]
     },
     "execution_count": 128,
     "metadata": {},
     "output_type": "execute_result"
    }
   ],
   "source": [
    "dataset.head()"
   ]
  },
  {
   "cell_type": "code",
   "execution_count": 129,
   "id": "stuffed-immunology",
   "metadata": {},
   "outputs": [
    {
     "data": {
      "text/plain": [
       "age            0\n",
       "sex            0\n",
       "cp             0\n",
       "trestbps       2\n",
       "chol           0\n",
       "fbs           75\n",
       "restecg        1\n",
       "thalach        1\n",
       "exang          1\n",
       "oldpeak        6\n",
       "slope         17\n",
       "ca           122\n",
       "thal          54\n",
       "num_label      0\n",
       "dtype: int64"
      ]
     },
     "execution_count": 129,
     "metadata": {},
     "output_type": "execute_result"
    }
   ],
   "source": [
    "dataset.isna().sum()"
   ]
  },
  {
   "cell_type": "code",
   "execution_count": 130,
   "id": "ruled-neutral",
   "metadata": {},
   "outputs": [
    {
     "name": "stdout",
     "output_type": "stream",
     "text": [
      "age\n",
      "[32. 34. 35. 36. 38. 40. 41. 42. 43. 45. 46. 47. 48. 50. 51. 52. 53. 54.\n",
      " 55. 56. 57. 58. 59. 60. 61. 62. 63. 64. 65. 66. 67. 68. 69. 70. 72. 73.\n",
      " 74. 37. 44. 49. 71. 39. 29. 77. 76.]\n",
      "sex\n",
      "[1. 0.]\n",
      "cp\n",
      "[1. 4. 3. 2.]\n",
      "trestbps\n",
      "['95' '115' nan '110' '105' '100' '135' '150' '125' '145' '140' '155'\n",
      " '160' '120' '130' '165' '80' '180' '170' '200' '185' 145.0 160.0 120.0\n",
      " 130.0 140.0 172.0 150.0 110.0 132.0 117.0 135.0 112.0 105.0 124.0 125.0\n",
      " 142.0 128.0 170.0 155.0 104.0 180.0 138.0 108.0 134.0 122.0 115.0 118.0\n",
      " 100.0 200.0 94.0 165.0 102.0 152.0 101.0 126.0 174.0 148.0 178.0 158.0\n",
      " 192.0 129.0 144.0 123.0 136.0 146.0 106.0 156.0 154.0 114.0 164.0]\n",
      "chol\n",
      "[  0. 233. 286. 229. 250. 204. 236. 268. 354. 254. 203. 192. 294. 256.\n",
      " 263. 199. 168. 239. 275. 266. 211. 283. 284. 224. 206. 219. 340. 226.\n",
      " 247. 167. 230. 335. 234. 177. 276. 353. 243. 225. 302. 212. 330. 175.\n",
      " 417. 197. 198. 290. 253. 172. 273. 213. 305. 216. 304. 188. 282. 185.\n",
      " 232. 326. 231. 269. 267. 248. 360. 258. 308. 245. 270. 208. 264. 321.\n",
      " 274. 325. 235. 257. 164. 141. 252. 255. 201. 222. 260. 182. 303. 265.\n",
      " 309. 307. 249. 186. 341. 183. 407. 217. 288. 220. 209. 227. 261. 174.\n",
      " 281. 221. 205. 240. 289. 318. 298. 564. 246. 322. 299. 300. 293. 277.\n",
      " 214. 207. 223. 160. 394. 184. 315. 409. 244. 195. 196. 126. 313. 259.\n",
      " 200. 262. 215. 228. 193. 271. 210. 327. 149. 295. 306. 178. 237. 218.\n",
      " 242. 319. 166. 180. 311. 278. 342. 169. 187. 157. 176. 241. 131.]\n",
      "fbs\n",
      "[nan '0' '1' 1.0 0.0]\n",
      "restecg\n",
      "['0' nan '1' '2' 2.0 0.0 1.0]\n",
      "thalach\n",
      "['127' '154' '130' '125' '166' '156' '179' '128' '150' '120' '144' '176'\n",
      " '99' '122' '145' '140' '138' '133' '113' '118' '149' '124' '110' '139'\n",
      " '92' '104' '170' '163' '60' '126' '82' '95' '115' '135' '141' '155' '83'\n",
      " '97' '98' '100' '148' '103' '121' '131' '182' '105' '175' '94' '119'\n",
      " '143' '63' '70' '77' '117' '123' '134' '72' '78' '109' '86' '114' '93'\n",
      " '67' '90' '108' '136' nan '157' 150.0 108.0 129.0 187.0 172.0 178.0 160.0\n",
      " 163.0 147.0 155.0 148.0 153.0 142.0 173.0 162.0 174.0 168.0 139.0 171.0\n",
      " 144.0 132.0 158.0 114.0 151.0 161.0 179.0 120.0 112.0 137.0 157.0 169.0\n",
      " 165.0 123.0 128.0 152.0 140.0 188.0 109.0 125.0 131.0 170.0 113.0 99.0\n",
      " 177.0 141.0 180.0 111.0 143.0 182.0 156.0 115.0 149.0 145.0 146.0 175.0\n",
      " 186.0 185.0 159.0 130.0 190.0 136.0 97.0 127.0 154.0 133.0 126.0 202.0\n",
      " 103.0 166.0 164.0 184.0 124.0 122.0 96.0 138.0 88.0 105.0 194.0 195.0\n",
      " 106.0 167.0 95.0 192.0 117.0 121.0 116.0 71.0 118.0 181.0 134.0 90.0]\n",
      "exang\n",
      "['0' '1' nan 0.0 1.0]\n",
      "oldpeak\n",
      "['.7' '.2' nan '1' '2.8' '0' '-1.1' '1.6' '-1.5' '1.5' '2' '.5' '-.1'\n",
      " '-2.6' '2.1' '-.7' '2.2' '3' '.1' '.3' '-2' '-1' '1.8' '1.4' '2.6' '.9'\n",
      " '2.4' '1.1' '.4' '2.5' '1.7' '-.8' '-.5' '-.9' '3.7' '1.3' 2.3 1.5 2.6\n",
      " 3.5 1.4 0.8 3.6 0.6 3.1 0.4 1.3 0.0 0.5 1.6 1.0 1.2 0.2 1.8 3.2 2.4 2.0\n",
      " 2.5 2.2 2.8 3.0 3.4 6.2 4.0 5.6 2.9 0.1 2.1 1.9 4.2 0.9 1.1 3.8 0.7 0.3\n",
      " 4.4]\n",
      "slope\n",
      "['1' nan '2' '3' 3.0 2.0 1.0]\n",
      "ca\n",
      "[nan '1' '2' '0.0' '3.0' '2.0' '1.0']\n",
      "thal\n",
      "[nan '7' '6' '3' '6.0' '3.0' '7.0']\n",
      "num_label\n",
      "[1 3 2 0 4]\n"
     ]
    }
   ],
   "source": [
    "for x in column_list:\n",
    "    print(x)\n",
    "    print(dataset[x].unique())"
   ]
  },
  {
   "cell_type": "code",
   "execution_count": 131,
   "id": "knowing-shepherd",
   "metadata": {},
   "outputs": [],
   "source": [
    "feature=['sex',  'age', 'trestbps', 'thalach' ]"
   ]
  },
  {
   "cell_type": "code",
   "execution_count": 132,
   "id": "accepted-emphasis",
   "metadata": {},
   "outputs": [],
   "source": [
    "data_feature=dataset[feature]\n"
   ]
  },
  {
   "cell_type": "code",
   "execution_count": 133,
   "id": "continuous-shift",
   "metadata": {},
   "outputs": [
    {
     "data": {
      "text/plain": [
       "sex         0\n",
       "age         0\n",
       "trestbps    2\n",
       "thalach     1\n",
       "dtype: int64"
      ]
     },
     "execution_count": 133,
     "metadata": {},
     "output_type": "execute_result"
    }
   ],
   "source": [
    "data_feature.isna().sum()"
   ]
  },
  {
   "cell_type": "code",
   "execution_count": 134,
   "id": "indian-convergence",
   "metadata": {},
   "outputs": [
    {
     "data": {
      "text/plain": [
       "426"
      ]
     },
     "execution_count": 134,
     "metadata": {},
     "output_type": "execute_result"
    }
   ],
   "source": [
    "dataset_drop=data_feature.dropna()\n",
    "len(data_feature)"
   ]
  },
  {
   "cell_type": "code",
   "execution_count": 135,
   "id": "needed-partnership",
   "metadata": {},
   "outputs": [
    {
     "data": {
      "text/html": [
       "<div>\n",
       "<style scoped>\n",
       "    .dataframe tbody tr th:only-of-type {\n",
       "        vertical-align: middle;\n",
       "    }\n",
       "\n",
       "    .dataframe tbody tr th {\n",
       "        vertical-align: top;\n",
       "    }\n",
       "\n",
       "    .dataframe thead th {\n",
       "        text-align: right;\n",
       "    }\n",
       "</style>\n",
       "<table border=\"1\" class=\"dataframe\">\n",
       "  <thead>\n",
       "    <tr style=\"text-align: right;\">\n",
       "      <th></th>\n",
       "      <th>sex</th>\n",
       "      <th>age</th>\n",
       "      <th>trestbps</th>\n",
       "      <th>thalach</th>\n",
       "    </tr>\n",
       "  </thead>\n",
       "  <tbody>\n",
       "    <tr>\n",
       "      <th>0</th>\n",
       "      <td>1.0</td>\n",
       "      <td>32.0</td>\n",
       "      <td>95</td>\n",
       "      <td>127</td>\n",
       "    </tr>\n",
       "    <tr>\n",
       "      <th>1</th>\n",
       "      <td>1.0</td>\n",
       "      <td>34.0</td>\n",
       "      <td>115</td>\n",
       "      <td>154</td>\n",
       "    </tr>\n",
       "    <tr>\n",
       "      <th>3</th>\n",
       "      <td>1.0</td>\n",
       "      <td>36.0</td>\n",
       "      <td>110</td>\n",
       "      <td>125</td>\n",
       "    </tr>\n",
       "    <tr>\n",
       "      <th>4</th>\n",
       "      <td>0.0</td>\n",
       "      <td>38.0</td>\n",
       "      <td>105</td>\n",
       "      <td>166</td>\n",
       "    </tr>\n",
       "    <tr>\n",
       "      <th>5</th>\n",
       "      <td>0.0</td>\n",
       "      <td>38.0</td>\n",
       "      <td>110</td>\n",
       "      <td>156</td>\n",
       "    </tr>\n",
       "  </tbody>\n",
       "</table>\n",
       "</div>"
      ],
      "text/plain": [
       "   sex   age trestbps thalach\n",
       "0  1.0  32.0       95     127\n",
       "1  1.0  34.0      115     154\n",
       "3  1.0  36.0      110     125\n",
       "4  0.0  38.0      105     166\n",
       "5  0.0  38.0      110     156"
      ]
     },
     "execution_count": 135,
     "metadata": {},
     "output_type": "execute_result"
    }
   ],
   "source": [
    "dataset_drop.head()"
   ]
  },
  {
   "cell_type": "code",
   "execution_count": 136,
   "id": "afraid-postcard",
   "metadata": {},
   "outputs": [
    {
     "name": "stdout",
     "output_type": "stream",
     "text": [
      "<class 'pandas.core.frame.DataFrame'>\n",
      "Int64Index: 424 entries, 0 to 302\n",
      "Data columns (total 4 columns):\n",
      " #   Column    Non-Null Count  Dtype  \n",
      "---  ------    --------------  -----  \n",
      " 0   sex       424 non-null    float64\n",
      " 1   age       424 non-null    float64\n",
      " 2   trestbps  424 non-null    object \n",
      " 3   thalach   424 non-null    object \n",
      "dtypes: float64(2), object(2)\n",
      "memory usage: 16.6+ KB\n"
     ]
    }
   ],
   "source": [
    "dataset_drop.info()"
   ]
  },
  {
   "cell_type": "code",
   "execution_count": 137,
   "id": "monthly-dream",
   "metadata": {},
   "outputs": [
    {
     "name": "stdout",
     "output_type": "stream",
     "text": [
      "sex\n",
      "[1. 0.]\n",
      "age\n",
      "[32. 34. 36. 38. 40. 41. 42. 43. 45. 46. 47. 48. 50. 51. 52. 53. 54. 55.\n",
      " 56. 57. 58. 59. 60. 61. 62. 63. 64. 65. 66. 67. 68. 69. 70. 72. 73. 74.\n",
      " 37. 44. 49. 71. 39. 35. 29. 77. 76.]\n",
      "trestbps\n",
      "['95' '115' '110' '105' '100' '135' '150' '125' '145' '140' '155' '160'\n",
      " '120' '130' '165' '80' '180' '170' '200' '185' 145.0 160.0 120.0 130.0\n",
      " 140.0 172.0 150.0 110.0 132.0 117.0 135.0 112.0 105.0 124.0 125.0 142.0\n",
      " 128.0 170.0 155.0 104.0 180.0 138.0 108.0 134.0 122.0 115.0 118.0 100.0\n",
      " 200.0 94.0 165.0 102.0 152.0 101.0 126.0 174.0 148.0 178.0 158.0 192.0\n",
      " 129.0 144.0 123.0 136.0 146.0 106.0 156.0 154.0 114.0 164.0]\n",
      "thalach\n",
      "['127' '154' '125' '166' '156' '179' '128' '150' '120' '144' '176' '99'\n",
      " '122' '145' '140' '138' '133' '113' '118' '149' '124' '110' '139' '92'\n",
      " '104' '170' '163' '60' '126' '82' '95' '115' '135' '141' '155' '83' '97'\n",
      " '98' '100' '148' '103' '121' '131' '182' '105' '175' '94' '119' '143'\n",
      " '130' '63' '70' '77' '117' '123' '134' '72' '78' '109' '86' '114' '93'\n",
      " '67' '90' '108' '136' '157' 150.0 108.0 129.0 187.0 172.0 178.0 160.0\n",
      " 163.0 147.0 155.0 148.0 153.0 142.0 173.0 162.0 174.0 168.0 139.0 171.0\n",
      " 144.0 132.0 158.0 114.0 151.0 161.0 179.0 120.0 112.0 137.0 157.0 169.0\n",
      " 165.0 123.0 128.0 152.0 140.0 188.0 109.0 125.0 131.0 170.0 113.0 99.0\n",
      " 177.0 141.0 180.0 111.0 143.0 182.0 156.0 115.0 149.0 145.0 146.0 175.0\n",
      " 186.0 185.0 159.0 130.0 190.0 136.0 97.0 127.0 154.0 133.0 126.0 202.0\n",
      " 103.0 166.0 164.0 184.0 124.0 122.0 96.0 138.0 88.0 105.0 194.0 195.0\n",
      " 106.0 167.0 95.0 192.0 117.0 121.0 116.0 71.0 118.0 181.0 134.0 90.0]\n"
     ]
    }
   ],
   "source": [
    "#all numbers are don't have fraction\n",
    "for x in dataset_drop.columns:\n",
    "    print(x)\n",
    "    print(dataset_drop[x].unique())\n"
   ]
  },
  {
   "cell_type": "code",
   "execution_count": 138,
   "id": "signed-australian",
   "metadata": {},
   "outputs": [
    {
     "name": "stderr",
     "output_type": "stream",
     "text": [
      "/home/ec2-user/anaconda3/envs/tensorflow2_p36/lib/python3.6/site-packages/ipykernel/__main__.py:2: SettingWithCopyWarning: \n",
      "A value is trying to be set on a copy of a slice from a DataFrame.\n",
      "Try using .loc[row_indexer,col_indexer] = value instead\n",
      "\n",
      "See the caveats in the documentation: https://pandas.pydata.org/pandas-docs/stable/user_guide/indexing.html#returning-a-view-versus-a-copy\n",
      "  from ipykernel import kernelapp as app\n"
     ]
    }
   ],
   "source": [
    "for x in dataset_drop.columns:\n",
    "    dataset_drop[x] = dataset_drop[x].astype(int)"
   ]
  },
  {
   "cell_type": "code",
   "execution_count": 139,
   "id": "naked-delivery",
   "metadata": {},
   "outputs": [
    {
     "name": "stdout",
     "output_type": "stream",
     "text": [
      "<class 'pandas.core.frame.DataFrame'>\n",
      "Int64Index: 424 entries, 0 to 302\n",
      "Data columns (total 4 columns):\n",
      " #   Column    Non-Null Count  Dtype\n",
      "---  ------    --------------  -----\n",
      " 0   sex       424 non-null    int64\n",
      " 1   age       424 non-null    int64\n",
      " 2   trestbps  424 non-null    int64\n",
      " 3   thalach   424 non-null    int64\n",
      "dtypes: int64(4)\n",
      "memory usage: 16.6 KB\n"
     ]
    }
   ],
   "source": [
    "dataset_drop.info()"
   ]
  },
  {
   "cell_type": "code",
   "execution_count": 146,
   "id": "electronic-month",
   "metadata": {},
   "outputs": [],
   "source": [
    "# dataset_drop.to_csv(\"process.csv\",index=False)\n"
   ]
  },
  {
   "cell_type": "code",
   "execution_count": 267,
   "id": "plastic-likelihood",
   "metadata": {},
   "outputs": [
    {
     "data": {
      "text/plain": [
       "True"
      ]
     },
     "execution_count": 267,
     "metadata": {},
     "output_type": "execute_result"
    }
   ],
   "source": [
    "FILE_NAME= \"process.csv\"\n",
    "UPLOAD_PROCESS_DATA = f\"Data/D1/processes/{FILE_NAME}\"\n",
    "upload_file(FILE_NAME,BUCKET_NAME,UPLOAD_PROCESS_DATA)"
   ]
  },
  {
   "cell_type": "markdown",
   "id": "recent-devon",
   "metadata": {},
   "source": [
    "### Training mode on Local"
   ]
  },
  {
   "cell_type": "code",
   "execution_count": 1,
   "id": "legitimate-recommendation",
   "metadata": {},
   "outputs": [],
   "source": [
    "\n",
    "import pandas as pd\n",
    "import numpy as np\n",
    "processed_data= pd.read_csv(\"process.csv\")\n"
   ]
  },
  {
   "cell_type": "code",
   "execution_count": 2,
   "id": "legal-assist",
   "metadata": {},
   "outputs": [],
   "source": [
    "from sklearn.preprocessing import StandardScaler\n",
    "scaler = StandardScaler()"
   ]
  },
  {
   "cell_type": "code",
   "execution_count": 14,
   "id": "failing-wiring",
   "metadata": {},
   "outputs": [
    {
     "name": "stdout",
     "output_type": "stream",
     "text": [
      " Total Train: 360 \n",
      " Total Test: 64 \n"
     ]
    }
   ],
   "source": [
    "X_feature = processed_data[['sex','age','thalach']]\n",
    "y_feature =  processed_data['trestbps']\n",
    "from sklearn.model_selection import train_test_split\n",
    "X_train, X_test, y_train, y_test = train_test_split(X_feature, y_feature, test_size=0.15, random_state=42)\n",
    "print(f\" Total Train: {len(X_train)} \\n Total Test: {len(X_test)} \")"
   ]
  },
  {
   "cell_type": "code",
   "execution_count": 4,
   "id": "adult-second",
   "metadata": {},
   "outputs": [],
   "source": [
    "X_train_scaler=scaler.fit_transform(X_train)\n",
    "X_test_scaler=scaler.fit_transform(X_test)\n",
    "y_train_scaler=scaler.fit_transform(np.array(y_train).reshape(1,-1)).reshape(-1,1)\n",
    "y_test_scaler=scaler.fit_transform(np.array(y_test).reshape(1,-1)).reshape(-1,1)"
   ]
  },
  {
   "cell_type": "code",
   "execution_count": 15,
   "id": "rotary-offering",
   "metadata": {},
   "outputs": [],
   "source": [
    "from tensorflow.keras.models import Sequential\n",
    "from tensorflow.keras.layers import Dense\n",
    "from tensorflow.keras.optimizers import Adam\n",
    "from tensorflow.keras.layers import Dropout\n",
    "from tensorflow.keras.callbacks import EarlyStopping, ReduceLROnPlateau, TensorBoard, ModelCheckpoint"
   ]
  },
  {
   "cell_type": "code",
   "execution_count": null,
   "id": "planned-detective",
   "metadata": {},
   "outputs": [],
   "source": []
  },
  {
   "cell_type": "code",
   "execution_count": null,
   "id": "relevant-employment",
   "metadata": {},
   "outputs": [],
   "source": [
    "\n",
    "call_back=[\n",
    "    ModelCheckpoint(monitor='val_loss',\n",
    "                    filepath=f'chkpoint_best_weights.hdf5',\n",
    "                    save_best_only=True,\n",
    "                    save_weights_only=True),\n",
    "    \n",
    "    EarlyStopping(monitor='val_loss', mode='min', verbose=1, patience=200),\n",
    "#     # tensor board callback.\n",
    "#     TensorBoard(log_dir=logs_dir)\n",
    "]\n",
    "\n",
    "model = Sequential()\n",
    "model.add(Dense(128, activation=\"relu\", input_dim=3))\n",
    "model.add(Dense(32, activation=\"relu\"))\n",
    "Dropout(0.1)\n",
    "model.add(Dense(8, activation=\"relu\"))\n",
    "model.add(Dense(1, activation=\"linear\"))\n",
    "\n",
    "# Compile model: The model is initialized with the Adam optimizer and then it is compiled.\n",
    "model.compile(loss='mean_squared_error', optimizer=Adam(lr=1e-3, decay=1e-3 / 200))\n",
    "\n",
    "# Patient early stopping\n",
    "# es = EarlyStopping(monitor='val_loss', mode='min', verbose=1, patience=200)\n",
    "\n",
    "# Fit the model\n",
    "history = model.fit(X_train, y_train, \n",
    "                    validation_data=(X_test, y_test), \n",
    "                    epochs=500, \n",
    "                    batch_size=64, \n",
    "                    verbose=2, \n",
    "                    callbacks=[call_back])\n"
   ]
  },
  {
   "cell_type": "code",
   "execution_count": 30,
   "id": "acknowledged-departure",
   "metadata": {},
   "outputs": [],
   "source": [
    "losses = pd.DataFrame(model.history.history)"
   ]
  },
  {
   "cell_type": "code",
   "execution_count": 31,
   "id": "unsigned-albania",
   "metadata": {},
   "outputs": [
    {
     "data": {
      "text/plain": [
       "<matplotlib.axes._subplots.AxesSubplot at 0x7f043039e978>"
      ]
     },
     "execution_count": 31,
     "metadata": {},
     "output_type": "execute_result"
    },
    {
     "data": {
      "image/png": "[encoded data removed]",
      "text/plain": [
       "<Figure size 432x288 with 1 Axes>"
      ]
     },
     "metadata": {
      "needs_background": "light"
     },
     "output_type": "display_data"
    }
   ],
   "source": [
    "losses.plot()"
   ]
  },
  {
   "cell_type": "code",
   "execution_count": 32,
   "id": "potential-kidney",
   "metadata": {},
   "outputs": [
    {
     "data": {
      "text/plain": [
       "array([[136.15419],\n",
       "       [153.16505],\n",
       "       [138.48212],\n",
       "       [137.57887],\n",
       "       [151.22513]], dtype=float32)"
      ]
     },
     "execution_count": 32,
     "metadata": {},
     "output_type": "execute_result"
    }
   ],
   "source": [
    "pred=model.predict(X_test)\n",
    "pred[:5]"
   ]
  },
  {
   "cell_type": "markdown",
   "id": "radical-level",
   "metadata": {},
   "source": [
    "#### Evaluation"
   ]
  },
  {
   "cell_type": "code",
   "execution_count": 27,
   "id": "final-incident",
   "metadata": {},
   "outputs": [],
   "source": [
    "from sklearn.metrics import mean_squared_error,mean_absolute_error"
   ]
  },
  {
   "cell_type": "code",
   "execution_count": 40,
   "id": "later-leave",
   "metadata": {},
   "outputs": [
    {
     "name": "stdout",
     "output_type": "stream",
     "text": [
      "16.009822114330746\n"
     ]
    },
    {
     "data": {
      "text/plain": [
       "21.15596926655589"
      ]
     },
     "execution_count": 40,
     "metadata": {},
     "output_type": "execute_result"
    }
   ],
   "source": [
    "print(mean_absolute_error(y_test,pred))\n",
    "np.sqrt(mean_squared_error(y_test,pred))"
   ]
  },
  {
   "cell_type": "code",
   "execution_count": 36,
   "id": "major-christianity",
   "metadata": {},
   "outputs": [
    {
     "data": {
      "text/plain": [
       "(array([130, 118, 130, 128, 144]),\n",
       " array([136.88078449, 141.87756393, 138.46609243, 137.34911706,\n",
       "        140.00012635]))"
      ]
     },
     "execution_count": 36,
     "metadata": {},
     "output_type": "execute_result"
    }
   ],
   "source": [
    "y_test[:5].values , pred[:5]"
   ]
  },
  {
   "cell_type": "code",
   "execution_count": null,
   "id": "educated-middle",
   "metadata": {},
   "outputs": [],
   "source": []
  }
 ],
 "metadata": {
  "kernelspec": {
   "display_name": "conda_tensorflow2_p36",
   "language": "python",
   "name": "conda_tensorflow2_p36"
  },
  "language_info": {
   "codemirror_mode": {
    "name": "ipython",
    "version": 3
   },
   "file_extension": ".py",
   "mimetype": "text/x-python",
   "name": "python",
   "nbconvert_exporter": "python",
   "pygments_lexer": "ipython3",
   "version": "3.6.10"
  }
 },
 "nbformat": 4,
 "nbformat_minor": 5
}
